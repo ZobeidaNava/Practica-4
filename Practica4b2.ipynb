{
 "cells": [
  {
   "cell_type": "code",
   "execution_count": null,
   "metadata": {},
   "outputs": [],
   "source": [
    "Práctica 4b: selección de características categóricas\n",
    "Nota: antes de implementar los siguientes métodos, debemos asegurarnos de que el DataFrame sólo contiene características categóricas.\n",
    "\n",
    "Preparación del conjunto de datos: Breast Cancer\n",
    "En el conjunto de datos se encuentran datos de las pacientes con cáncer de mama con una recurrencia o no recurrencia del cáncer. Hay 286 ejemplos y nueve variables de entrada. Es un problema de clasificación binaria.\n",
    "\n",
    "Un modelo trivial puede lograr una precisión del (70%) en este conjunto de datos. Un buen puntaje es de aproximadamente (76% +/- 3%)."
   ]
  },
  {
   "cell_type": "code",
   "execution_count": 1,
   "metadata": {},
   "outputs": [],
   "source": [
    "import pandas as pd\n",
    "import numpy as np\n",
    "import matplotlib.pyplot as plt\n",
    "\n",
    "from sklearn.model_selection import train_test_split\n",
    "from sklearn.preprocessing import OrdinalEncoder \n",
    "from sklearn.preprocessing import LabelEncoder\n",
    "from sklearn.feature_selection import SelectKBest, chi2, mutual_info_classif\n",
    "low_memory = False\n",
    "import seaborn as sb\n",
    "from sklearn.cluster import KMeans\n",
    "from sklearn.metrics import pairwise_distances_argmin_min"
   ]
  },
  {
   "cell_type": "code",
   "execution_count": 2,
   "metadata": {},
   "outputs": [],
   "source": [
    "file = \"conjunto_de_datos_visita_museos_2018.csv\"\n",
    "df = pd.read_csv(file)\n",
    "df = df.dropna(axis=1)\n",
    "names = ['ANIO_ESTAD', 'ENT_REGIS', 'MES_ENTREV', 'DIA_ENTREV', 'SEXO', 'EDAD',\n",
    "       'ENT_RESID', 'MUN_RESID', 'PAIS_RESID', 'NACIONALID', 'PAIS_EXTRA',\n",
    "       'ESCOLARIDA', 'OCUPACION', 'LENGUA_1', 'ESTIM_FAM', 'PRIM_VISIT',\n",
    "       'VIS_OTROS', 'MEDIO_1', 'PLAN_VISIT', 'MV_ACOMP', 'MV_CULTURA',\n",
    "       'MV_APREND', 'MV_ESCOLAR', 'MV_LABORAL', 'MV_CONOCER', 'MV_ENTRETE',\n",
    "       'MV_EDIFICI', 'MV_TALLER', 'MV_OTRO', 'MEDIO_TRAN', 'TIEMPO_TRA',\n",
    "       'TIPO_ENTRA', 'PAV_NADIE', 'PAV_FAMILI', 'PAV_PAREJA', 'PAV_AMIGO',\n",
    "       'PAV_COMPA', 'PAV_ESCOLA', 'PAV_TURIST', 'PAV_OTRO', 'SU_SALAS',\n",
    "       'SU_TIENDA', 'SU_VISGUIA', 'SU_AUDIOG', 'SU_TALLER', 'SU_ACADEM',\n",
    "       'SU_ACULTUR', 'SU_BIBLIOT', 'SU_ARCHIVO', 'SU_SILLA', 'SU_OTRO',\n",
    "       'OPIN_EXPOS', 'DUR_VIS_H', 'DUR_VIS_M', 'REPETIR_VI', 'RECOMIE_VI',\n",
    "       'EVAL_GRAL', 'M_NOVIS_1']\n",
    "df = df.astype(int)\n",
    "for i in names :\n",
    "    #print(len(df[i].unique()))\n",
    "    if(len(df[i].unique()) == 2):\n",
    "        x =(df[i].unique())\n",
    "        df[i].replace({\n",
    "            x[0] : \"a\",\n",
    "            x[1] : \"b\"\n",
    "        }, inplace=True)\n",
    "    if(len(df[i].unique()) == 3):\n",
    "        x =(df[i].unique())\n",
    "        df[i].replace({\n",
    "            x[0] : \"a\",\n",
    "            x[1] : \"b\",\n",
    "            x[2] : \"c\"\n",
    "        }, inplace=True)\n",
    "    if(len(df[i].unique()) > 3):\n",
    "        bins=np.linspace(min(df[i]),max(df[i]),4)\n",
    "        names=[\"a\",\"b\",\"c\"]\n",
    "        df[i]=pd.cut(df[i],bins,labels=names)\n",
    "df = df.dropna(axis = 1)\n",
    "df = df.drop(\"ANIO_ESTAD\", 1)\n",
    "X = df.drop(\"SEXO\",1)\n",
    "y = df[\"SEXO\"]\n",
    "df = pd.concat([X, y], axis = 1)\n",
    "df.to_csv(\"Archivo.csv\", header = True, index = False)"
   ]
  },
  {
   "cell_type": "code",
   "execution_count": 3,
   "metadata": {},
   "outputs": [],
   "source": [
    "file = \"Archivo.csv\"\n",
    "data = pd.read_csv(file, header=None)\n",
    "# arreglo\n",
    "dataset = data.values"
   ]
  },
  {
   "cell_type": "code",
   "execution_count": 4,
   "metadata": {},
   "outputs": [],
   "source": [
    "X = dataset[:, :-1]\n",
    "y = dataset[:,-1]"
   ]
  },
  {
   "cell_type": "code",
   "execution_count": 5,
   "metadata": {},
   "outputs": [],
   "source": [
    "X = X.astype(str)"
   ]
  },
  {
   "cell_type": "code",
   "execution_count": 6,
   "metadata": {},
   "outputs": [],
   "source": [
    "def load_dataset(filename):\n",
    "    # Cargamos el Dataframe\n",
    "    data = pd.read_csv(filename, header=None)\n",
    "    # Generamos un arreglo\n",
    "    dataset = data.values\n",
    "    # Dividimos en X y y\n",
    "    X = dataset[:, :-1]\n",
    "    y = dataset[:,-1]\n",
    "    # Forzamos que X sea string \n",
    "    X = X.astype(str)\n",
    "    return X, y"
   ]
  },
  {
   "cell_type": "code",
   "execution_count": 7,
   "metadata": {},
   "outputs": [
    {
     "name": "stdout",
     "output_type": "stream",
     "text": [
      "('Train', (122455L, 37L), (122455L,))\n",
      "('Test', (60315L, 37L), (60315L,))\n"
     ]
    }
   ],
   "source": [
    "# Cargamos el dataset\n",
    "X, y = load_dataset(file)\n",
    "\n",
    "# Dividimos en train y test\n",
    "X_train, X_test, y_train, y_test = train_test_split(X, y, test_size=0.33, random_state=1)\n",
    "\n",
    "# Checamos las dimensiones\n",
    "print('Train', X_train.shape, y_train.shape)\n",
    "print('Test', X_test.shape, y_test.shape)"
   ]
  },
  {
   "cell_type": "code",
   "execution_count": 9,
   "metadata": {},
   "outputs": [],
   "source": [
    "def prepare_inputs(X_train, X_test):\n",
    "    oe = OrdinalEncoder()\n",
    "    oe.fit(X_train)\n",
    "    X_train_enc = oe.transform(X_train)\n",
    "    oe.fit(X_test)\n",
    "    X_test_enc =  oe.transform(X_test)\n",
    "    return X_train_enc, X_test_enc\n",
    "X_train_enc, X_test_enc = prepare_inputs(X_train, X_test)"
   ]
  },
  {
   "cell_type": "code",
   "execution_count": 10,
   "metadata": {},
   "outputs": [],
   "source": [
    "def prepare_targets(y_train, y_test):\n",
    "    le = LabelEncoder()\n",
    "    le.fit(y_train)\n",
    "    y_train_enc = le.transform(y_train)\n",
    "    le.fit(y_test)\n",
    "    y_test_enc = le.transform(y_test)\n",
    "    return y_train_enc, y_test_enc\n",
    "y_train_enc, y_test_enc = prepare_targets(y_train, y_test)"
   ]
  },
  {
   "cell_type": "code",
   "execution_count": 11,
   "metadata": {},
   "outputs": [],
   "source": [
    "def select_features(X_train, y_train, X_test):\n",
    "\tfs = SelectKBest(score_func=chi2, k='all')\n",
    "\tfs.fit(X_train, y_train)\n",
    "\tX_train_fs = fs.transform(X_train)\n",
    "\tX_test_fs = fs.transform(X_test)\n",
    "\treturn X_train_fs, X_test_fs, fs"
   ]
  },
  {
   "cell_type": "code",
   "execution_count": 12,
   "metadata": {},
   "outputs": [],
   "source": [
    "# Selección de características con chi-squared\n",
    "X_train_fs, X_test_fs, fs = select_features(X_train_enc, y_train_enc, X_test_enc)"
   ]
  },
  {
   "cell_type": "code",
   "execution_count": 13,
   "metadata": {},
   "outputs": [
    {
     "name": "stdout",
     "output_type": "stream",
     "text": [
      "Característica 0: 1.529338\n",
      "Característica 1: 1.300473\n",
      "Característica 2: 4.937005\n",
      "Característica 3: 7.260486\n",
      "Característica 4: 2.551268\n",
      "Característica 5: 5.196306\n",
      "Característica 6: 1.785974\n",
      "Característica 7: 8.957263\n",
      "Característica 8: 3.118490\n",
      "Característica 9: 4.522414\n",
      "Característica 10: 1.467200\n",
      "Característica 11: 1.432662\n",
      "Característica 12: 1.625090\n",
      "Característica 13: 3.628840\n",
      "Característica 14: 1.553032\n",
      "Característica 15: 1.009721\n",
      "Característica 16: 2.012231\n",
      "Característica 17: 29.240811\n",
      "Característica 18: 62.312828\n",
      "Característica 19: 12.904847\n",
      "Característica 20: 1.272791\n",
      "Característica 21: 1.429136\n",
      "Característica 22: 1.244081\n",
      "Característica 23: 1.087693\n",
      "Característica 24: 2.086943\n",
      "Característica 25: 1.400693\n",
      "Característica 26: 1.173254\n",
      "Característica 27: 4.429956\n",
      "Característica 28: 1.031778\n",
      "Característica 29: 5.145648\n",
      "Característica 30: 1.017344\n",
      "Característica 31: 1.053569\n",
      "Característica 32: 1.050230\n",
      "Característica 33: 1.147077\n",
      "Característica 34: 1.004253\n",
      "Característica 35: 1.051052\n",
      "Característica 36: 1.041642\n"
     ]
    },
    {
     "data": {
      "image/png": "[encoded data removed]",
      "text/plain": [
       "<Figure size 432x288 with 1 Axes>"
      ]
     },
     "metadata": {
      "needs_background": "light"
     },
     "output_type": "display_data"
    }
   ],
   "source": [
    "for i in range(len(fs.scores_)):\n",
    "    print('Característica %d: %f' % (i, fs.scores_[i]))\n",
    "\n",
    "plt.bar([i for i in range(len(fs.scores_))], fs.scores_)\n",
    "plt.show()"
   ]
  },
  {
   "cell_type": "code",
   "execution_count": 22,
   "metadata": {},
   "outputs": [],
   "source": [
    "def select_features(X_train, y_train, X_test):\n",
    "    fs = SelectKBest(score_func=mutual_info_classif, k='all')\n",
    "    fs.fit(X_train, y_train)\n",
    "    X_train_fs = fs.transform(X_train)\n",
    "    X_test_fs = fs.transform(X_test)\n",
    "    return X_train_fs, X_test_fs, fs"
   ]
  },
  {
   "cell_type": "code",
   "execution_count": null,
   "metadata": {},
   "outputs": [],
   "source": [
    "# Selección de características con mutual information\n",
    "X_train_fs, X_test_fs, fs = select_features(X_train_enc, y_train_enc, X_test_enc)"
   ]
  },
  {
   "cell_type": "code",
   "execution_count": null,
   "metadata": {},
   "outputs": [],
   "source": []
  }
 ],
 "metadata": {
  "kernelspec": {
   "display_name": "Python 2",
   "language": "python",
   "name": "python2"
  },
  "language_info": {
   "codemirror_mode": {
    "name": "ipython",
    "version": 2
   },
   "file_extension": ".py",
   "mimetype": "text/x-python",
   "name": "python",
   "nbconvert_exporter": "python",
   "pygments_lexer": "ipython2",
   "version": "2.7.16"
  }
 },
 "nbformat": 4,
 "nbformat_minor": 2
}
